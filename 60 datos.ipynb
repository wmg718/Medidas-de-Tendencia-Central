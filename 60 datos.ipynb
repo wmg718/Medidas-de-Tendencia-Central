{
 "cells": [
  {
   "cell_type": "code",
   "execution_count": 28,
   "id": "5af32f62",
   "metadata": {},
   "outputs": [],
   "source": [
    "import pandas as pd\n",
    "import numpy as np"
   ]
  },
  {
   "cell_type": "markdown",
   "id": "57e8adbf",
   "metadata": {},
   "source": [
    "Importacion de 60 datos excel"
   ]
  },
  {
   "cell_type": "code",
   "execution_count": 87,
   "id": "91e019e4",
   "metadata": {},
   "outputs": [
    {
     "name": "stdout",
     "output_type": "stream",
     "text": [
      "    Matematicas \n",
      "0             22\n",
      "1             23\n",
      "2             24\n",
      "3             24\n",
      "4             25\n",
      "5             26\n",
      "6             26\n",
      "7             27\n",
      "8             28\n",
      "9             28\n",
      "10            29\n",
      "11            30\n",
      "12            30\n",
      "13            31\n",
      "14            31\n",
      "15            32\n",
      "16            32\n",
      "17            33\n",
      "18            33\n",
      "19            33\n",
      "20            33\n",
      "21            34\n",
      "22            34\n",
      "23            35\n",
      "24            35\n",
      "25            35\n",
      "26            36\n",
      "27            36\n",
      "28            36\n",
      "29            36\n",
      "30            36\n",
      "31            36\n",
      "32            37\n",
      "33            37\n",
      "34            37\n",
      "35            38\n",
      "36            38\n",
      "37            38\n",
      "38            38\n",
      "39            38\n",
      "40            39\n",
      "41            39\n",
      "42            39\n",
      "43            40\n",
      "44            40\n",
      "45            40\n",
      "46            41\n",
      "47            41\n",
      "48            41\n",
      "49            41\n",
      "50            42\n",
      "51            42\n",
      "52            43\n",
      "53            44\n",
      "54            44\n",
      "55            47\n",
      "56            47\n",
      "57            49\n",
      "58            50\n",
      "59            50\n"
     ]
    }
   ],
   "source": [
    "df = pd.read_excel(\"C:/Users/walex/Downloads/60 datos.xlsx\", engine=\"openpyxl\")\n",
    "\n",
    "columna = \"Matematicas \"  \n",
    "datos = df[columna].dropna()  \n",
    "print(df)\n"
   ]
  },
  {
   "cell_type": "markdown",
   "id": "138a9f5c",
   "metadata": {},
   "source": [
    "Amplitud de los Datos (Notas Estudiantes)"
   ]
  },
  {
   "cell_type": "code",
   "execution_count": null,
   "id": "1814a03c",
   "metadata": {},
   "outputs": [
    {
     "name": "stdout",
     "output_type": "stream",
     "text": [
      "Amplitud total global de todos los datos numéricos: 28\n",
      "Número de clases: 5\n",
      "La extension del Intervalo es:6\n"
     ]
    }
   ],
   "source": [
    "a= datos.max() - datos.min()\n",
    "k = int(np.round(np.sqrt(a)))  # Redondeamos al entero más cercano\n",
    "h = int(np.round(a/k))\n",
    "\n",
    "\n",
    "print(f\"Amplitud total global de todos los datos numéricos: {a}\")\n",
    "print(f\"Número de clases: {k}\")\n",
    "print(f\"La extension del Intervalo es:{h}\")"
   ]
  },
  {
   "cell_type": "markdown",
   "id": "ae3fe708",
   "metadata": {},
   "source": [
    "Creacion Tabla de Frecuencias"
   ]
  },
  {
   "cell_type": "code",
   "execution_count": 85,
   "id": "8457a6b0",
   "metadata": {},
   "outputs": [
    {
     "name": "stdout",
     "output_type": "stream",
     "text": [
      "  Intervalo  Frecuencia Absoluta  Frecuencia Relativa  Frecuencia Acumulada\n",
      "0  [22, 28)                    8             0.133333                     8\n",
      "1  [28, 34)                   13             0.216667                    21\n",
      "2  [34, 40)                   22             0.366667                    43\n",
      "3  [40, 46)                   12             0.200000                    55\n",
      "4  [46, 52)                    5             0.083333                    60\n"
     ]
    }
   ],
   "source": [
    "# Generar los límites de los intervalos\n",
    "bins = [datos.min() + i * h for i in range(k + 1)]\n",
    "\n",
    "# Crear la tabla de frecuencias\n",
    "tabla_frecuencias = pd.cut(\n",
    "    datos,\n",
    "    bins=bins,\n",
    "    right=False,  # Intervalo cerrado por la izquierda: [a, b)\n",
    "    include_lowest=True\n",
    ").value_counts().sort_index().reset_index()\n",
    "\n",
    "# Renombrar columnas\n",
    "tabla_frecuencias.columns = [\"Intervalo\", \"Frecuencia Absoluta\"]\n",
    "\n",
    "# Agregar columnas adicionales (opcional)\n",
    "tabla_frecuencias[\"Frecuencia Relativa\"] = (\n",
    "    tabla_frecuencias[\"Frecuencia Absoluta\"] / n\n",
    ")\n",
    "tabla_frecuencias[\"Frecuencia Acumulada\"] = (\n",
    "    tabla_frecuencias[\"Frecuencia Absoluta\"].cumsum()\n",
    ")\n",
    "\n",
    "print(tabla_frecuencias)"
   ]
  },
  {
   "cell_type": "code",
   "execution_count": 88,
   "id": "b88e078e",
   "metadata": {},
   "outputs": [
    {
     "data": {
      "image/png": "[encoded data removed]",
      "text/plain": [
       "<Figure size 640x480 with 1 Axes>"
      ]
     },
     "metadata": {},
     "output_type": "display_data"
    }
   ],
   "source": [
    "import matplotlib.pyplot as plt\n",
    "\n",
    "plt.hist(datos, bins=bins, edgecolor=\"black\")\n",
    "plt.title(f\"Histograma de {columna}\")\n",
    "plt.xlabel(\"Valores\")\n",
    "plt.ylabel(\"Frecuencia\")\n",
    "plt.show()"
   ]
  }
 ],
 "metadata": {
  "kernelspec": {
   "display_name": "Python 3",
   "language": "python",
   "name": "python3"
  },
  "language_info": {
   "codemirror_mode": {
    "name": "ipython",
    "version": 3
   },
   "file_extension": ".py",
   "mimetype": "text/x-python",
   "name": "python",
   "nbconvert_exporter": "python",
   "pygments_lexer": "ipython3",
   "version": "3.13.3"
  }
 },
 "nbformat": 4,
 "nbformat_minor": 5
}
